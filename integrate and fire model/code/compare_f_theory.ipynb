{
 "cells": [
  {
   "cell_type": "code",
   "execution_count": 3,
   "metadata": {},
   "outputs": [
    {
     "name": "stderr",
     "output_type": "stream",
     "text": [
      "C:\\Users\\11097\\AppData\\Local\\Temp\\ipykernel_26568\\2257721125.py:8: RuntimeWarning: divide by zero encountered in double_scalars\n",
      "  eqn = lambda T: -1 + I_e * (1 - np.exp(-T / tau)) + (-J_a) * (1 / (1 - np.exp(-T / tau_a))) * (tau_a / (tau_a - tau)) * (np.exp(-T / tau_a) - np.exp(-T / tau))\n",
      "C:\\Users\\11097\\AppData\\Local\\Temp\\ipykernel_26568\\2257721125.py:8: RuntimeWarning: invalid value encountered in double_scalars\n",
      "  eqn = lambda T: -1 + I_e * (1 - np.exp(-T / tau)) + (-J_a) * (1 / (1 - np.exp(-T / tau_a))) * (tau_a / (tau_a - tau)) * (np.exp(-T / tau_a) - np.exp(-T / tau))\n"
     ]
    }
   ],
   "source": [
    "import numpy as np\n",
    "import matplotlib.pyplot as plt\n",
    "from scipy.optimize import root_scalar\n",
    "\n",
    "def numerical_solution_of_algebraic_equation(tau, tau_a, J_a, range_of_I_e):\n",
    "    T_solutions = np.zeros(len(range_of_I_e))\n",
    "    for i, I_e in enumerate(range_of_I_e):\n",
    "        eqn = lambda T: -1 + I_e * (1 - np.exp(-T / tau)) + (-J_a) * (1 / (1 - np.exp(-T / tau_a))) * (tau_a / (tau_a - tau)) * (np.exp(-T / tau_a) - np.exp(-T / tau))\n",
    "        T_initial_guess = 0.1 # s\n",
    "        root_result = root_scalar(eqn, bracket=[0, 5], x0 = T_initial_guess)\n",
    "        T_solutions[i] = root_result.root\n",
    "    f = np.where(T_solutions != 0, 1.0 / T_solutions, 0)\n",
    "    return f\n",
    "\n",
    "# Constants\n",
    "tau = 1e-2\n",
    "tau_adapt = 0.2\n",
    "range_of_I_e = 1 + np.concatenate([np.arange(0.001, 0.011, 0.001), np.arange(0.01, 1.01, 0.01)])\n",
    "J_adapt_values = [0, 0.1, 0.5, 1]\n",
    "\n",
    "# Initialize results list\n",
    "f_theory = []\n",
    "\n",
    "# Calculate\n",
    "for J_adapt in J_adapt_values:\n",
    "    f = numerical_solution_of_algebraic_equation(tau, tau_adapt, J_adapt, range_of_I_e)\n",
    "    f_theory.append(f)\n",
    "\n",
    "# Plot\n",
    "plt.figure()\n",
    "for i, J_adapt in enumerate(J_adapt_values):\n",
    "    plt.plot(range_of_I_e, f_theory[i], label=f'J_adapt = {J_adapt:.2f}')\n",
    "\n",
    "# label, title, legend, lim\n",
    "plt.xlabel('Range of I_e')\n",
    "plt.ylabel('f_theory')\n",
    "plt.title('f_theory for different J_adapt values')\n",
    "plt.legend()\n",
    "plt.xlim([0.9, max(range_of_I_e)])\n",
    "\n",
    "plt.show()"
   ]
  },
  {
   "cell_type": "code",
   "execution_count": 3,
   "metadata": {},
   "outputs": [
    {
     "name": "stdout",
     "output_type": "stream",
     "text": [
      "Root: 2.0\n",
      "Number of iterations: 11\n",
      "Function evaluations: 12\n"
     ]
    }
   ],
   "source": [
    "from scipy.optimize import root_scalar\n",
    "\n",
    "# Define the function for which you want to find the root\n",
    "def my_function(x):\n",
    "    return x ** 2 - 4\n",
    "\n",
    "# Use root_scalar to find the root, specifying a bracketing interval [0, 10]\n",
    "result = root_scalar(my_function, bracket=[0, 10], method='brentq')\n",
    "\n",
    "# Print the result\n",
    "print(\"Root:\", result.root)\n",
    "print(\"Number of iterations:\", result.iterations)\n",
    "print(\"Function evaluations:\", result.function_calls)"
   ]
  }
 ],
 "metadata": {
  "kernelspec": {
   "display_name": "base",
   "language": "python",
   "name": "python3"
  },
  "language_info": {
   "codemirror_mode": {
    "name": "ipython",
    "version": 3
   },
   "file_extension": ".py",
   "mimetype": "text/x-python",
   "name": "python",
   "nbconvert_exporter": "python",
   "pygments_lexer": "ipython3",
   "version": "3.9.7"
  }
 },
 "nbformat": 4,
 "nbformat_minor": 2
}
